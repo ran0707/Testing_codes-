{
 "cells": [
  {
   "cell_type": "code",
   "execution_count": 2,
   "metadata": {},
   "outputs": [
    {
     "name": "stdout",
     "output_type": "stream",
     "text": [
      "Defaulting to user installation because normal site-packages is not writeable\n",
      "Collecting onnx\n",
      "  Using cached onnx-1.16.2-cp310-cp310-manylinux_2_17_x86_64.manylinux2014_x86_64.whl.metadata (16 kB)\n",
      "Requirement already satisfied: numpy>=1.20 in /home/idrone2/.local/lib/python3.10/site-packages (from onnx) (1.26.4)\n",
      "Requirement already satisfied: protobuf>=3.20.2 in /home/idrone2/.local/lib/python3.10/site-packages (from onnx) (4.25.3)\n",
      "Using cached onnx-1.16.2-cp310-cp310-manylinux_2_17_x86_64.manylinux2014_x86_64.whl (15.9 MB)\n",
      "Installing collected packages: onnx\n",
      "Successfully installed onnx-1.16.2\n",
      "Note: you may need to restart the kernel to use updated packages.\n"
     ]
    }
   ],
   "source": [
    "%pip install onnx"
   ]
  },
  {
   "cell_type": "code",
   "execution_count": 2,
   "metadata": {},
   "outputs": [
    {
     "ename": "ModuleNotFoundError",
     "evalue": "No module named 'my_custom_module'",
     "output_type": "error",
     "traceback": [
      "\u001b[0;31m---------------------------------------------------------------------------\u001b[0m",
      "\u001b[0;31mModuleNotFoundError\u001b[0m                       Traceback (most recent call last)",
      "Cell \u001b[0;32mIn[2], line 50\u001b[0m\n\u001b[1;32m     47\u001b[0m output_names \u001b[38;5;241m=\u001b[39m [\u001b[38;5;124m\"\u001b[39m\u001b[38;5;124moutput\u001b[39m\u001b[38;5;124m\"\u001b[39m]\n\u001b[1;32m     48\u001b[0m input_shape \u001b[38;5;241m=\u001b[39m (\u001b[38;5;241m3\u001b[39m, \u001b[38;5;241m224\u001b[39m, \u001b[38;5;241m224\u001b[39m)  \u001b[38;5;66;03m# Replace with your actual input shape\u001b[39;00m\n\u001b[0;32m---> 50\u001b[0m \u001b[43mconvert_pkl_to_onnx\u001b[49m\u001b[43m(\u001b[49m\u001b[43mpkl_path\u001b[49m\u001b[43m,\u001b[49m\u001b[43m \u001b[49m\u001b[43monnx_path\u001b[49m\u001b[43m,\u001b[49m\u001b[43m \u001b[49m\u001b[43minput_names\u001b[49m\u001b[43m,\u001b[49m\u001b[43m \u001b[49m\u001b[43moutput_names\u001b[49m\u001b[43m,\u001b[49m\u001b[43m \u001b[49m\u001b[43mdynamic_axes\u001b[49m\u001b[38;5;241;43m=\u001b[39;49m\u001b[38;5;28;43;01mNone\u001b[39;49;00m\u001b[43m)\u001b[49m\n",
      "Cell \u001b[0;32mIn[2], line 22\u001b[0m, in \u001b[0;36mconvert_pkl_to_onnx\u001b[0;34m(pkl_path, onnx_path, input_names, output_names, dynamic_axes)\u001b[0m\n\u001b[1;32m      7\u001b[0m \u001b[38;5;250m\u001b[39m\u001b[38;5;124;03m\"\"\"\u001b[39;00m\n\u001b[1;32m      8\u001b[0m \u001b[38;5;124;03mConverts a pickled PyTorch model to an ONNX model.\u001b[39;00m\n\u001b[1;32m      9\u001b[0m \n\u001b[0;32m   (...)\u001b[0m\n\u001b[1;32m     18\u001b[0m \u001b[38;5;124;03m    None\u001b[39;00m\n\u001b[1;32m     19\u001b[0m \u001b[38;5;124;03m\"\"\"\u001b[39;00m\n\u001b[1;32m     21\u001b[0m \u001b[38;5;66;03m# Import any necessary modules or define custom classes here\u001b[39;00m\n\u001b[0;32m---> 22\u001b[0m \u001b[38;5;28;01mimport\u001b[39;00m \u001b[38;5;21;01mmy_custom_module\u001b[39;00m  \u001b[38;5;66;03m# Replace with your actual module name\u001b[39;00m\n\u001b[1;32m     24\u001b[0m \u001b[38;5;66;03m# Load the pickled PyTorch model\u001b[39;00m\n\u001b[1;32m     25\u001b[0m \u001b[38;5;28;01mwith\u001b[39;00m \u001b[38;5;28mopen\u001b[39m(pkl_path, \u001b[38;5;124m'\u001b[39m\u001b[38;5;124mrb\u001b[39m\u001b[38;5;124m'\u001b[39m) \u001b[38;5;28;01mas\u001b[39;00m f:\n",
      "\u001b[0;31mModuleNotFoundError\u001b[0m: No module named 'my_custom_module'"
     ]
    }
   ],
   "source": [
    "import pickle\n",
    "import onnx\n",
    "import torch\n",
    "from torch.onnx import export\n",
    "\n",
    "def convert_pkl_to_onnx(pkl_path, onnx_path, input_names, output_names, dynamic_axes=None):\n",
    "    \"\"\"\n",
    "    Converts a pickled PyTorch model to an ONNX model.\n",
    "\n",
    "    Args:\n",
    "        pkl_path (str): Path to the Pickle file containing the PyTorch model.\n",
    "        onnx_path (str): Path to save the converted ONNX model.\n",
    "        input_names (list): List of input names for the ONNX model.\n",
    "        output_names (list): List of output names for the ONNX model.\n",
    "        dynamic_axes (dict, optional): Dictionary mapping input/output names to dynamic axes.\n",
    "\n",
    "    Returns:\n",
    "        None\n",
    "    \"\"\"\n",
    "\n",
    "    # Import any necessary modules or define custom classes here\n",
    "    import my_custom_module  # Replace with your actual module name\n",
    "\n",
    "    # Load the pickled PyTorch model\n",
    "    with open(pkl_path, 'rb') as f:\n",
    "        model = pickle.load(f)\n",
    "\n",
    "    # Convert the PyTorch model to ONNX format\n",
    "    if isinstance(model, torch.nn.DataParallel):\n",
    "        model = model.module  # Extract the underlying module\n",
    "\n",
    "    # Set the model to evaluation mode for ONNX export\n",
    "    model.eval()\n",
    "\n",
    "    # Create a dummy input tensor with appropriate shape and data type\n",
    "    dummy_input = torch.randn(1, *input_shape)  # Replace with your desired input shape\n",
    "\n",
    "    # Export the model to ONNX\n",
    "    export(model, dummy_input, onnx_path, input_names=input_names, output_names=output_names, dynamic_axes=dynamic_axes)\n",
    "\n",
    "    print(f\"ONNX model saved to {onnx_path}\")\n",
    "\n",
    "# Example usage:\n",
    "pkl_path = \"/home/idrone2/Desktop/Ranjith-cnn/model/data.pkl\"\n",
    "onnx_path = \"/home/idrone2/Desktop/Ranjith-cnn/CV1_model.onnx\"\n",
    "input_names = [\"input\"]\n",
    "output_names = [\"output\"]\n",
    "input_shape = (3, 224, 224)  # Replace with your actual input shape\n",
    "\n",
    "convert_pkl_to_onnx(pkl_path, onnx_path, input_names, output_names, dynamic_axes=None)"
   ]
  },
  {
   "cell_type": "code",
   "execution_count": null,
   "metadata": {},
   "outputs": [],
   "source": []
  }
 ],
 "metadata": {
  "kernelspec": {
   "display_name": "Python 3",
   "language": "python",
   "name": "python3"
  },
  "language_info": {
   "codemirror_mode": {
    "name": "ipython",
    "version": 3
   },
   "file_extension": ".py",
   "mimetype": "text/x-python",
   "name": "python",
   "nbconvert_exporter": "python",
   "pygments_lexer": "ipython3",
   "version": "3.10.12"
  }
 },
 "nbformat": 4,
 "nbformat_minor": 2
}
